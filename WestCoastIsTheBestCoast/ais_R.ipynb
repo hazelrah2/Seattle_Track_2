{
 "cells": [
  {
   "cell_type": "code",
   "execution_count": 1,
   "metadata": {},
   "outputs": [
    {
     "name": "stderr",
     "output_type": "stream",
     "text": [
      "Loading required package: DBI\n"
     ]
    }
   ],
   "source": [
    "# More data in the Amazon Cloud in a PostgreSQL RDS\n",
    "\n",
    "library(RPostgreSQL)\n",
    "\n",
    "conn <- dbConnect(drv=PostgreSQL(), \n",
    "                  host=\"pg-ais-inst.chf8mgp53zo6.us-west-2.rds.amazonaws.com\", port=5432,\n",
    "                  user=\"rockper\", password=\"1InTen-10\", dbname=\"ais\")"
   ]
  },
  {
   "cell_type": "code",
   "execution_count": 3,
   "metadata": {},
   "outputs": [
    {
     "data": {
      "text/html": [
       "<ol class=list-inline>\n",
       "\t<li>'minloc'</li>\n",
       "\t<li>'allzones'</li>\n",
       "</ol>\n"
      ],
      "text/latex": [
       "\\begin{enumerate*}\n",
       "\\item 'minloc'\n",
       "\\item 'allzones'\n",
       "\\end{enumerate*}\n"
      ],
      "text/markdown": [
       "1. 'minloc'\n",
       "2. 'allzones'\n",
       "\n",
       "\n"
      ],
      "text/plain": [
       "[1] \"minloc\"   \"allzones\""
      ]
     },
     "metadata": {},
     "output_type": "display_data"
    }
   ],
   "source": [
    "# Two tables in AWS: 1) Years 2015, 2016 & 2017 for Zone 11 only (Puget Sound), and 2) All UTM zones for Dec 2017\n",
    "\n",
    "dbListTables(conn)"
   ]
  },
  {
   "cell_type": "code",
   "execution_count": 4,
   "metadata": {},
   "outputs": [
    {
     "data": {
      "text/html": [
       "<table>\n",
       "<thead><tr><th scope=col>datetime</th><th scope=col>dow</th><th scope=col>mmsi</th><th scope=col>lat</th><th scope=col>lon</th><th scope=col>sog</th><th scope=col>cog</th></tr></thead>\n",
       "<tbody>\n",
       "\t<tr><td>2017-12-05 08:29:39</td><td>2                  </td><td>367384340          </td><td>32.66213           </td><td>-118.0129          </td><td>12.3               </td><td>85.9               </td></tr>\n",
       "\t<tr><td>2017-12-05 08:30:43</td><td>2                  </td><td>367384340          </td><td>32.66228           </td><td>-118.0087          </td><td>12.2               </td><td>87.4               </td></tr>\n",
       "\t<tr><td>2017-12-05 08:31:48</td><td>2                  </td><td>367384340          </td><td>32.66246           </td><td>-118.0043          </td><td>12.3               </td><td>87.5               </td></tr>\n",
       "\t<tr><td>2017-12-05 08:32:53</td><td>2                  </td><td>367384340          </td><td>32.66266           </td><td>-118.0001          </td><td>12.2               </td><td>84.7               </td></tr>\n",
       "\t<tr><td>2017-12-05 08:33:56</td><td>2                  </td><td>367384340          </td><td>32.66282           </td><td>-117.9959          </td><td>12.0               </td><td>87.1               </td></tr>\n",
       "\t<tr><td>2017-12-05 08:34:59</td><td>2                  </td><td>367384340          </td><td>32.66296           </td><td>-117.9918          </td><td>12.0               </td><td>87.7               </td></tr>\n",
       "\t<tr><td>2017-12-05 08:36:00</td><td>2                  </td><td>367384340          </td><td>32.66299           </td><td>-117.9877          </td><td>12.2               </td><td>91.5               </td></tr>\n",
       "\t<tr><td>2017-12-05 08:37:10</td><td>2                  </td><td>367384340          </td><td>32.66299           </td><td>-117.9832          </td><td>12.0               </td><td>92.0               </td></tr>\n",
       "\t<tr><td>2017-12-05 08:38:16</td><td>2                  </td><td>367384340          </td><td>32.66306           </td><td>-117.9787          </td><td>11.6               </td><td>87.8               </td></tr>\n",
       "\t<tr><td>2017-12-05 08:39:23</td><td>2                  </td><td>367384340          </td><td>32.66330           </td><td>-117.9744          </td><td>12.1               </td><td>86.4               </td></tr>\n",
       "</tbody>\n",
       "</table>\n"
      ],
      "text/latex": [
       "\\begin{tabular}{r|lllllll}\n",
       " datetime & dow & mmsi & lat & lon & sog & cog\\\\\n",
       "\\hline\n",
       "\t 2017-12-05 08:29:39 & 2                   & 367384340           & 32.66213            & -118.0129           & 12.3                & 85.9               \\\\\n",
       "\t 2017-12-05 08:30:43 & 2                   & 367384340           & 32.66228            & -118.0087           & 12.2                & 87.4               \\\\\n",
       "\t 2017-12-05 08:31:48 & 2                   & 367384340           & 32.66246            & -118.0043           & 12.3                & 87.5               \\\\\n",
       "\t 2017-12-05 08:32:53 & 2                   & 367384340           & 32.66266            & -118.0001           & 12.2                & 84.7               \\\\\n",
       "\t 2017-12-05 08:33:56 & 2                   & 367384340           & 32.66282            & -117.9959           & 12.0                & 87.1               \\\\\n",
       "\t 2017-12-05 08:34:59 & 2                   & 367384340           & 32.66296            & -117.9918           & 12.0                & 87.7               \\\\\n",
       "\t 2017-12-05 08:36:00 & 2                   & 367384340           & 32.66299            & -117.9877           & 12.2                & 91.5               \\\\\n",
       "\t 2017-12-05 08:37:10 & 2                   & 367384340           & 32.66299            & -117.9832           & 12.0                & 92.0               \\\\\n",
       "\t 2017-12-05 08:38:16 & 2                   & 367384340           & 32.66306            & -117.9787           & 11.6                & 87.8               \\\\\n",
       "\t 2017-12-05 08:39:23 & 2                   & 367384340           & 32.66330            & -117.9744           & 12.1                & 86.4               \\\\\n",
       "\\end{tabular}\n"
      ],
      "text/markdown": [
       "\n",
       "datetime | dow | mmsi | lat | lon | sog | cog | \n",
       "|---|---|---|---|---|---|---|---|---|---|\n",
       "| 2017-12-05 08:29:39 | 2                   | 367384340           | 32.66213            | -118.0129           | 12.3                | 85.9                | \n",
       "| 2017-12-05 08:30:43 | 2                   | 367384340           | 32.66228            | -118.0087           | 12.2                | 87.4                | \n",
       "| 2017-12-05 08:31:48 | 2                   | 367384340           | 32.66246            | -118.0043           | 12.3                | 87.5                | \n",
       "| 2017-12-05 08:32:53 | 2                   | 367384340           | 32.66266            | -118.0001           | 12.2                | 84.7                | \n",
       "| 2017-12-05 08:33:56 | 2                   | 367384340           | 32.66282            | -117.9959           | 12.0                | 87.1                | \n",
       "| 2017-12-05 08:34:59 | 2                   | 367384340           | 32.66296            | -117.9918           | 12.0                | 87.7                | \n",
       "| 2017-12-05 08:36:00 | 2                   | 367384340           | 32.66299            | -117.9877           | 12.2                | 91.5                | \n",
       "| 2017-12-05 08:37:10 | 2                   | 367384340           | 32.66299            | -117.9832           | 12.0                | 92.0                | \n",
       "| 2017-12-05 08:38:16 | 2                   | 367384340           | 32.66306            | -117.9787           | 11.6                | 87.8                | \n",
       "| 2017-12-05 08:39:23 | 2                   | 367384340           | 32.66330            | -117.9744           | 12.1                | 86.4                | \n",
       "\n",
       "\n"
      ],
      "text/plain": [
       "   datetime            dow mmsi      lat      lon       sog  cog \n",
       "1  2017-12-05 08:29:39 2   367384340 32.66213 -118.0129 12.3 85.9\n",
       "2  2017-12-05 08:30:43 2   367384340 32.66228 -118.0087 12.2 87.4\n",
       "3  2017-12-05 08:31:48 2   367384340 32.66246 -118.0043 12.3 87.5\n",
       "4  2017-12-05 08:32:53 2   367384340 32.66266 -118.0001 12.2 84.7\n",
       "5  2017-12-05 08:33:56 2   367384340 32.66282 -117.9959 12.0 87.1\n",
       "6  2017-12-05 08:34:59 2   367384340 32.66296 -117.9918 12.0 87.7\n",
       "7  2017-12-05 08:36:00 2   367384340 32.66299 -117.9877 12.2 91.5\n",
       "8  2017-12-05 08:37:10 2   367384340 32.66299 -117.9832 12.0 92.0\n",
       "9  2017-12-05 08:38:16 2   367384340 32.66306 -117.9787 11.6 87.8\n",
       "10 2017-12-05 08:39:23 2   367384340 32.66330 -117.9744 12.1 86.4"
      ]
     },
     "metadata": {},
     "output_type": "display_data"
    }
   ],
   "source": [
    "# data <- dbGetQuery(con, \"SELECT * from sales\")\n",
    "\n",
    "query <- \"SELECT base_dt AT TIME ZONE 'UTC' AT TIME ZONE 'PST' AS datetime, date_part('dow', base_dt) AS DOW, mmsi, lat, lon, sog, cog \n",
    "FROM allzones \n",
    "WHERE vessel_type=35 AND lat > 32.5 AND lat < 34 AND lon > -120.0 AND lon < -114.0 AND sog > 10 \n",
    "ORDER BY datetime ASC \n",
    "LIMIT 10;\"\n",
    "\n",
    "dbGetQuery(conn, query)"
   ]
  },
  {
   "cell_type": "code",
   "execution_count": 5,
   "metadata": {
    "collapsed": true
   },
   "outputs": [
    {
     "data": {
      "text/html": [
       "TRUE"
      ],
      "text/latex": [
       "TRUE"
      ],
      "text/markdown": [
       "TRUE"
      ],
      "text/plain": [
       "[1] TRUE"
      ]
     },
     "metadata": {},
     "output_type": "display_data"
    }
   ],
   "source": [
    "dbDisconnect(conn)"
   ]
  },
  {
   "cell_type": "code",
   "execution_count": 2,
   "metadata": {
    "collapsed": true
   },
   "outputs": [
    {
     "name": "stderr",
     "output_type": "stream",
     "text": [
      "\n",
      "Attaching package: ‘dplyr’\n",
      "\n",
      "The following objects are masked from ‘package:stats’:\n",
      "\n",
      "    filter, lag\n",
      "\n",
      "The following objects are masked from ‘package:base’:\n",
      "\n",
      "    intersect, setdiff, setequal, union\n",
      "\n",
      "\n",
      "Attaching package: ‘data.table’\n",
      "\n",
      "The following objects are masked from ‘package:dplyr’:\n",
      "\n",
      "    between, first, last\n",
      "\n",
      "\n",
      "Attaching package: ‘magrittr’\n",
      "\n",
      "The following object is masked from ‘package:tidyr’:\n",
      "\n",
      "    extract\n",
      "\n",
      "Google Maps API Terms of Service: http://developers.google.com/maps/terms.\n",
      "Please cite ggmap if you use it: see citation(\"ggmap\") for details.\n",
      "\n",
      "Attaching package: ‘ggmap’\n",
      "\n",
      "The following object is masked from ‘package:magrittr’:\n",
      "\n",
      "    inset\n",
      "\n",
      "Loading required package: sp\n",
      "rgdal: version: 1.2-20, (SVN revision 725)\n",
      " Geospatial Data Abstraction Library extensions to R successfully loaded\n",
      " Loaded GDAL runtime: GDAL 2.2.3, released 2017/11/20\n",
      " Path to GDAL shared files: /usr/share/gdal/2.2\n",
      " GDAL binary built with GEOS: TRUE \n",
      " Loaded PROJ.4 runtime: Rel. 4.9.3, 15 August 2016, [PJ_VERSION: 493]\n",
      " Path to PROJ.4 shared files: (autodetected)\n",
      " Linking to sp version: 1.2-7 \n",
      "Checking rgeos availability: TRUE\n"
     ]
    }
   ],
   "source": [
    "# Processing\n",
    "library(dplyr)\n",
    "library(stringr)\n",
    "library(data.table)\n",
    "library(tidyr)\n",
    "library(magrittr) # for the pipes %>%\n",
    "library(ggplot2)\n",
    "\n",
    "# Mapping\n",
    "library(maps)\n",
    "library(ggmap)\n",
    "library(mapdata)\n",
    "library(rgdal)\n",
    "library(broom)\n",
    "library(maptools)\n",
    "library(sf)  # will use GEOS 3.6.2, GDAL 2.2.3 and proj 4.4.9.3"
   ]
  },
  {
   "cell_type": "code",
   "execution_count": 29,
   "metadata": {},
   "outputs": [],
   "source": [
    "# Examine activity in UTM Zone 18 in December 2017\n",
    "# North Carolina to Connecticut, Longitude -78 to -72\n",
    "\n",
    "# Linux\n",
    "# setwd(\"/media/rock/x/data/ais_20180921/allzones_2017_12/\")\n",
    "\n",
    "# Windows\n",
    "setwd(\"D:/data/ais/allzones_2017_12/\")\n",
    "fName <- \"AIS_2017_12_Zone18.csv\""
   ]
  },
  {
   "cell_type": "code",
   "execution_count": 30,
   "metadata": {},
   "outputs": [],
   "source": [
    "# Read in the CSV dataset\n",
    "\n",
    "colNames <- c(\"mmsi\", \"dt_string\", \"lat\", \"lon\", \"sog\", \"cog\", \"heading\", \"vessel_name\", \"imo\", \"call_sign\",\n",
    "             \"vessel_type\", \"status\", \"len\", \"width\", \"draft\", \"cargo\")\n",
    "dTypes <- c(\"factor\", \"character\", \"numeric\", \"numeric\", \"numeric\", \"numeric\", \"numeric\", \"character\", \n",
    "            \"character\", \"character\", \"factor\", \"character\", \"numeric\", \"numeric\", \"numeric\", \"integer\")\n",
    "\n",
    "df <- read.csv(fName, header=TRUE, sep=\",\", col.names=colNames, colClasses = dTypes, stringsAsFactors=FALSE)\n",
    "\n",
    "# Convert the datetime string to POSIXct format in the UTC timezone\n",
    "df$base_dt <- strptime(df$dt_string, \"%Y-%m-%dT%H:%M:%S\", tz = \"GMT\")"
   ]
  },
  {
   "cell_type": "code",
   "execution_count": 31,
   "metadata": {},
   "outputs": [],
   "source": []
  },
  {
   "cell_type": "code",
   "execution_count": 68,
   "metadata": {},
   "outputs": [],
   "source": [
    "# Function to create a ViewFrame nMiles N,S,E & W of a vessel at a given latitude and longitude\n",
    "\n",
    "getViewFrame <- function (nMiles, lat, lon) {\n",
    "    latMax <- lat + nMiles/69.172\n",
    "    latMin <- lat - nMiles/69.172\n",
    "    lonMax <- lon + nMiles/(cos(lat)*69.172)\n",
    "    lonMin <- lon - nMiles/(cos(lat)*69.172)\n",
    "    return(c(latMin, latMax, lonMin, lonMax))\n",
    "}"
   ]
  },
  {
   "cell_type": "code",
   "execution_count": 32,
   "metadata": {},
   "outputs": [],
   "source": [
    "# Finds the Military Vessels (vessel_type = 35)\n",
    "\n",
    "militaryVesselsDf <- df[df$vessel_type==35,]\n",
    "militaryVesselMMSIs <- unique(militaryVesselsDf$mmsi)"
   ]
  },
  {
   "cell_type": "code",
   "execution_count": 39,
   "metadata": {
    "collapsed": true
   },
   "outputs": [
    {
     "name": "stderr",
     "output_type": "stream",
     "text": [
      "------------------------------------------------------------------------------\n",
      "You have loaded plyr after dplyr - this is likely to cause problems.\n",
      "If you need functions from both plyr and dplyr, please load plyr first, then dplyr:\n",
      "library(plyr); library(dplyr)\n",
      "------------------------------------------------------------------------------\n",
      "\n",
      "Attaching package: ‘plyr’\n",
      "\n",
      "The following object is masked from ‘package:maps’:\n",
      "\n",
      "    ozone\n",
      "\n",
      "The following objects are masked from ‘package:dplyr’:\n",
      "\n",
      "    arrange, count, desc, failwith, id, mutate, rename, summarise,\n",
      "    summarize\n",
      "\n"
     ]
    },
    {
     "data": {
      "text/html": [
       "<table>\n",
       "<thead><tr><th scope=col>mmsi</th><th scope=col>freq</th></tr></thead>\n",
       "<tbody>\n",
       "\t<tr><td>111480697</td><td> 261     </td></tr>\n",
       "\t<tr><td>368926164</td><td>1580     </td></tr>\n",
       "\t<tr><td>368926165</td><td> 760     </td></tr>\n",
       "\t<tr><td>368926171</td><td>  52     </td></tr>\n",
       "\t<tr><td>369970634</td><td>2164     </td></tr>\n",
       "</tbody>\n",
       "</table>\n"
      ],
      "text/latex": [
       "\\begin{tabular}{r|ll}\n",
       " mmsi & freq\\\\\n",
       "\\hline\n",
       "\t 111480697 &  261     \\\\\n",
       "\t 368926164 & 1580     \\\\\n",
       "\t 368926165 &  760     \\\\\n",
       "\t 368926171 &   52     \\\\\n",
       "\t 369970634 & 2164     \\\\\n",
       "\\end{tabular}\n"
      ],
      "text/markdown": [
       "\n",
       "mmsi | freq | \n",
       "|---|---|---|---|---|\n",
       "| 111480697 |  261      | \n",
       "| 368926164 | 1580      | \n",
       "| 368926165 |  760      | \n",
       "| 368926171 |   52      | \n",
       "| 369970634 | 2164      | \n",
       "\n",
       "\n"
      ],
      "text/plain": [
       "  mmsi      freq\n",
       "1 111480697  261\n",
       "2 368926164 1580\n",
       "3 368926165  760\n",
       "4 368926171   52\n",
       "5 369970634 2164"
      ]
     },
     "metadata": {},
     "output_type": "display_data"
    }
   ],
   "source": [
    "library(plyr)\n",
    "plyr::count(militaryVesselsDf, 'mmsi')\n",
    "# mmsi:count 368926164:1580, 369970634:2164"
   ]
  },
  {
   "cell_type": "code",
   "execution_count": 45,
   "metadata": {},
   "outputs": [],
   "source": [
    "# Track one of five military vessels in Zone 18\n",
    "\n",
    "mv2Df <- militaryVesselsDf[militaryVesselsDf$mmsi==369970634, c(\"base_dt\", \"lat\", \"lon\", \"sog\", \"cog\")]\n",
    "mv2Df <- mv2Df[order(mv2Df$base_dt),]"
   ]
  },
  {
   "cell_type": "code",
   "execution_count": 55,
   "metadata": {},
   "outputs": [],
   "source": [
    "mv2MotionDf <- mv2Df[mv2Df$sog > 10,]\n",
    "# mv2MotionDf"
   ]
  },
  {
   "cell_type": "code",
   "execution_count": 58,
   "metadata": {},
   "outputs": [],
   "source": [
    "write.csv(mv2MotionDf, file=\"mv2.csv\", row.names=FALSE)"
   ]
  },
  {
   "cell_type": "code",
   "execution_count": 64,
   "metadata": {},
   "outputs": [],
   "source": [
    "mv2Motion10MinuteDf <- mv2MotionDf[seq(1, 100, 10), ]"
   ]
  },
  {
   "cell_type": "code",
   "execution_count": 65,
   "metadata": {},
   "outputs": [
    {
     "data": {
      "text/html": [
       "<table>\n",
       "<thead><tr><th></th><th scope=col>base_dt</th><th scope=col>lat</th><th scope=col>lon</th><th scope=col>sog</th><th scope=col>cog</th></tr></thead>\n",
       "<tbody>\n",
       "\t<tr><th scope=row>9156062</th><td>2017-12-11 14:54:58</td><td>36.97686           </td><td>-76.32861          </td><td>10.4               </td><td> 46.4              </td></tr>\n",
       "\t<tr><th scope=row>9071163</th><td>2017-12-11 15:06:28</td><td>36.99961           </td><td>-76.29575          </td><td>10.9               </td><td> 58.9              </td></tr>\n",
       "\t<tr><th scope=row>8504924</th><td>2017-12-11 15:17:42</td><td>37.00708           </td><td>-76.24277          </td><td>15.6               </td><td> 92.9              </td></tr>\n",
       "\t<tr><th scope=row>9218928</th><td>2017-12-11 15:28:55</td><td>36.99235           </td><td>-76.18446          </td><td>15.0               </td><td>108.8              </td></tr>\n",
       "\t<tr><th scope=row>9264413</th><td>2017-12-11 15:39:56</td><td>36.97945           </td><td>-76.13654          </td><td>10.3               </td><td>110.5              </td></tr>\n",
       "\t<tr><th scope=row>9191380</th><td>2017-12-11 15:51:10</td><td>36.96686           </td><td>-76.08350          </td><td>18.5               </td><td>108.0              </td></tr>\n",
       "\t<tr><th scope=row>21004898</th><td>2017-12-11 16:02:05</td><td>36.94960           </td><td>-76.01617          </td><td>19.2               </td><td>108.9              </td></tr>\n",
       "\t<tr><th scope=row>9247993</th><td>2017-12-11 16:12:54</td><td>36.92902           </td><td>-75.96245          </td><td>12.0               </td><td>121.3              </td></tr>\n",
       "\t<tr><th scope=row>9127664</th><td>2017-12-11 16:24:24</td><td>36.90453           </td><td>-75.92679          </td><td>11.5               </td><td>138.3              </td></tr>\n",
       "\t<tr><th scope=row>9262651</th><td>2017-12-11 16:36:04</td><td>36.87767           </td><td>-75.89745          </td><td>10.5               </td><td>138.7              </td></tr>\n",
       "</tbody>\n",
       "</table>\n"
      ],
      "text/latex": [
       "\\begin{tabular}{r|lllll}\n",
       "  & base\\_dt & lat & lon & sog & cog\\\\\n",
       "\\hline\n",
       "\t9156062 & 2017-12-11 14:54:58 & 36.97686            & -76.32861           & 10.4                &  46.4              \\\\\n",
       "\t9071163 & 2017-12-11 15:06:28 & 36.99961            & -76.29575           & 10.9                &  58.9              \\\\\n",
       "\t8504924 & 2017-12-11 15:17:42 & 37.00708            & -76.24277           & 15.6                &  92.9              \\\\\n",
       "\t9218928 & 2017-12-11 15:28:55 & 36.99235            & -76.18446           & 15.0                & 108.8              \\\\\n",
       "\t9264413 & 2017-12-11 15:39:56 & 36.97945            & -76.13654           & 10.3                & 110.5              \\\\\n",
       "\t9191380 & 2017-12-11 15:51:10 & 36.96686            & -76.08350           & 18.5                & 108.0              \\\\\n",
       "\t21004898 & 2017-12-11 16:02:05 & 36.94960            & -76.01617           & 19.2                & 108.9              \\\\\n",
       "\t9247993 & 2017-12-11 16:12:54 & 36.92902            & -75.96245           & 12.0                & 121.3              \\\\\n",
       "\t9127664 & 2017-12-11 16:24:24 & 36.90453            & -75.92679           & 11.5                & 138.3              \\\\\n",
       "\t9262651 & 2017-12-11 16:36:04 & 36.87767            & -75.89745           & 10.5                & 138.7              \\\\\n",
       "\\end{tabular}\n"
      ],
      "text/markdown": [
       "\n",
       "| <!--/--> | base_dt | lat | lon | sog | cog | \n",
       "|---|---|---|---|---|---|---|---|---|---|\n",
       "| 9156062 | 2017-12-11 14:54:58 | 36.97686            | -76.32861           | 10.4                |  46.4               | \n",
       "| 9071163 | 2017-12-11 15:06:28 | 36.99961            | -76.29575           | 10.9                |  58.9               | \n",
       "| 8504924 | 2017-12-11 15:17:42 | 37.00708            | -76.24277           | 15.6                |  92.9               | \n",
       "| 9218928 | 2017-12-11 15:28:55 | 36.99235            | -76.18446           | 15.0                | 108.8               | \n",
       "| 9264413 | 2017-12-11 15:39:56 | 36.97945            | -76.13654           | 10.3                | 110.5               | \n",
       "| 9191380 | 2017-12-11 15:51:10 | 36.96686            | -76.08350           | 18.5                | 108.0               | \n",
       "| 21004898 | 2017-12-11 16:02:05 | 36.94960            | -76.01617           | 19.2                | 108.9               | \n",
       "| 9247993 | 2017-12-11 16:12:54 | 36.92902            | -75.96245           | 12.0                | 121.3               | \n",
       "| 9127664 | 2017-12-11 16:24:24 | 36.90453            | -75.92679           | 11.5                | 138.3               | \n",
       "| 9262651 | 2017-12-11 16:36:04 | 36.87767            | -75.89745           | 10.5                | 138.7               | \n",
       "\n",
       "\n"
      ],
      "text/plain": [
       "         base_dt             lat      lon       sog  cog  \n",
       "9156062  2017-12-11 14:54:58 36.97686 -76.32861 10.4  46.4\n",
       "9071163  2017-12-11 15:06:28 36.99961 -76.29575 10.9  58.9\n",
       "8504924  2017-12-11 15:17:42 37.00708 -76.24277 15.6  92.9\n",
       "9218928  2017-12-11 15:28:55 36.99235 -76.18446 15.0 108.8\n",
       "9264413  2017-12-11 15:39:56 36.97945 -76.13654 10.3 110.5\n",
       "9191380  2017-12-11 15:51:10 36.96686 -76.08350 18.5 108.0\n",
       "21004898 2017-12-11 16:02:05 36.94960 -76.01617 19.2 108.9\n",
       "9247993  2017-12-11 16:12:54 36.92902 -75.96245 12.0 121.3\n",
       "9127664  2017-12-11 16:24:24 36.90453 -75.92679 11.5 138.3\n",
       "9262651  2017-12-11 16:36:04 36.87767 -75.89745 10.5 138.7"
      ]
     },
     "metadata": {},
     "output_type": "display_data"
    }
   ],
   "source": [
    "mv2Motion10MinuteDf"
   ]
  },
  {
   "cell_type": "code",
   "execution_count": 72,
   "metadata": {},
   "outputs": [],
   "source": [
    "for (i in 1:nrow(mv2Motion10MinuteDf)) {\n",
    "    t <- mv2Motion10MinuteDf$base_dt[i]\n",
    "    latmv <- mv2Motion10MinuteDf$lat[i]\n",
    "    lonmv <- mv2Motion10MinuteDf$lon[i]\n",
    "    frame <- getViewFrame(4, latmv, lonmv)\n",
    "    viewFrameDf <- subset(df, (base_dt < t) & (base_dt >= t-60) & \n",
    "                          (lat > frame[1]) & (lat < frame[2]) & \n",
    "                          (lon > frame[3]) & (lon < frame[4]))\n",
    "    filename <- paste0(\"position\", i, \".csv\")\n",
    "    write.csv(viewFrameDf, filename, row.names=FALSE)\n",
    "}"
   ]
  }
 ],
 "metadata": {
  "kernelspec": {
   "display_name": "R",
   "language": "R",
   "name": "ir"
  },
  "language_info": {
   "codemirror_mode": "r",
   "file_extension": ".r",
   "mimetype": "text/x-r-source",
   "name": "R",
   "pygments_lexer": "r",
   "version": "3.5.1"
  }
 },
 "nbformat": 4,
 "nbformat_minor": 2
}
